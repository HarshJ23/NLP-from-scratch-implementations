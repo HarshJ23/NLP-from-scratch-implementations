{
  "nbformat": 4,
  "nbformat_minor": 0,
  "metadata": {
    "colab": {
      "provenance": [],
      "authorship_tag": "ABX9TyNJH1nOdz2KRfo2DI+4tNVN",
      "include_colab_link": true
    },
    "kernelspec": {
      "name": "python3",
      "display_name": "Python 3"
    },
    "language_info": {
      "name": "python"
    }
  },
  "cells": [
    {
      "cell_type": "markdown",
      "metadata": {
        "id": "view-in-github",
        "colab_type": "text"
      },
      "source": [
        "<a href=\"https://colab.research.google.com/github/HarshJ23/VectorDB_from_scratch/blob/main/VectorDB_from_scratch.ipynb\" target=\"_parent\"><img src=\"https://colab.research.google.com/assets/colab-badge.svg\" alt=\"Open In Colab\"/></a>"
      ]
    },
    {
      "cell_type": "code",
      "execution_count": 5,
      "metadata": {
        "id": "5ewW0lKwa3p4"
      },
      "outputs": [],
      "source": [
        "import numpy as np"
      ]
    },
    {
      "cell_type": "markdown",
      "source": [],
      "metadata": {
        "id": "RXbakqzhh7oJ"
      }
    },
    {
      "cell_type": "markdown",
      "source": [
        "### Choosing Distance metric\n",
        "##### I will use Cosine similarity as my similarity metric for this implementation.\n",
        "\n",
        "\n",
        "\n",
        "#### Cosine similarity formula:\n",
        "![image.png](https://miro.medium.com/v2/resize:fit:1100/format:webp/1*LfW66-WsYkFqWc4XYJbEJg.png)\n",
        "\n"
      ],
      "metadata": {
        "id": "9Qjuexs0f1lM"
      }
    },
    {
      "cell_type": "code",
      "source": [
        "def cosine_similarity(vec1, vec2):\n",
        "  dot_pdt = np.dot(vec1, vec2)\n",
        "\n",
        "  # calculating magnitudes(norm) of vec1 and vec2\n",
        "  norm_vec1 =  np.linalg.norm(vec1)\n",
        "  norm_vec2 =  np.linalg.norm(vec2)\n",
        "\n",
        "  cos_sim = dot_pdt / (norm_vec1 * norm_vec2)\n",
        "  return cos_sim"
      ],
      "metadata": {
        "id": "NL2lPO9QeyOb"
      },
      "execution_count": 6,
      "outputs": []
    },
    {
      "cell_type": "code",
      "source": [
        "class VectorDb:\n",
        "  def __init__(self):\n",
        "    # creating dictionary(key-value pairs) to store vectors with respective vector id.\n",
        "    self.vectors = {}\n",
        "\n",
        "  def insert_vector(self , vec_id, vec):\n",
        "    self.vectors[vec_id] = vec\n",
        "\n",
        "  def search(self, query_vector , top_k):\n",
        "    similar_vectors = []\n",
        "    for vec_id , vec in self.vectors.items():\n",
        "      similarity = cosine_similarity(query_vector , vec)\n",
        "      similar_vectors.append((vec_id , similarity))\n",
        "    return similar_vectors[:top_k]\n",
        "\n",
        "\n",
        "\n",
        "\n"
      ],
      "metadata": {
        "id": "evrU6L2uhcXH"
      },
      "execution_count": 7,
      "outputs": []
    },
    {
      "cell_type": "code",
      "source": [
        "db = VectorDb()\n",
        "\n",
        "db.insert_vector(\"vec1\" , np.array([1 , 3.6, 7 , 5 , 3.2]))\n",
        "db.insert_vector(\"vec2\" , np.array([1 , 1 ,0 , 6 , 3.5]))\n",
        "\n",
        "query = np.array([2 , 5 ,8 , 6 ,3.5] )\n",
        "results = db.search( query , 2)\n",
        "results\n"
      ],
      "metadata": {
        "colab": {
          "base_uri": "https://localhost:8080/"
        },
        "id": "0PpXPEHdhbpp",
        "outputId": "cfb3da16-d20a-41fd-9874-499bcab5c81f"
      },
      "execution_count": 10,
      "outputs": [
        {
          "output_type": "execute_result",
          "data": {
            "text/plain": [
              "[('vec1', 0.9951250059934604), ('vec2', 0.6557978991392666)]"
            ]
          },
          "metadata": {},
          "execution_count": 10
        }
      ]
    },
    {
      "cell_type": "markdown",
      "source": [
        "#### Further improvements in the project:\n",
        "\n",
        "- [ ] Edge cases handling\n",
        "- [ ] Return sorted search results\n",
        "- [ ] Add multiple vectors at once.\n",
        "- [ ] Handle larger datasets.\n",
        "- [ ] Add dimensionality checks.\n"
      ],
      "metadata": {
        "id": "-bYxRVUuWKtE"
      }
    },
    {
      "cell_type": "code",
      "source": [],
      "metadata": {
        "id": "ZkE8oUV4WKap"
      },
      "execution_count": null,
      "outputs": []
    }
  ]
}