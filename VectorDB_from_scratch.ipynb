{
  "nbformat": 4,
  "nbformat_minor": 0,
  "metadata": {
    "colab": {
      "provenance": [],
      "authorship_tag": "ABX9TyMJnk7laZYKYqZMspbunGxp",
      "include_colab_link": true
    },
    "kernelspec": {
      "name": "python3",
      "display_name": "Python 3"
    },
    "language_info": {
      "name": "python"
    }
  },
  "cells": [
    {
      "cell_type": "markdown",
      "metadata": {
        "id": "view-in-github",
        "colab_type": "text"
      },
      "source": [
        "<a href=\"https://colab.research.google.com/github/HarshJ23/VectorDB_from_scratch/blob/main/VectorDB_from_scratch.ipynb\" target=\"_parent\"><img src=\"https://colab.research.google.com/assets/colab-badge.svg\" alt=\"Open In Colab\"/></a>"
      ]
    },
    {
      "cell_type": "code",
      "execution_count": 5,
      "metadata": {
        "id": "5ewW0lKwa3p4"
      },
      "outputs": [],
      "source": [
        "import numpy as np"
      ]
    },
    {
      "cell_type": "markdown",
      "source": [],
      "metadata": {
        "id": "RXbakqzhh7oJ"
      }
    },
    {
      "cell_type": "markdown",
      "source": [
        "### Choosing Distance metric\n",
        "##### I will use Cosine similarity as my similarity metric for this implementation.\n",
        "\n",
        "\n",
        "\n",
        "#### Cosine similarity formula:\n",
        "![image.png](https://miro.medium.com/v2/resize:fit:1100/format:webp/1*LfW66-WsYkFqWc4XYJbEJg.png)\n",
        "\n"
      ],
      "metadata": {
        "id": "9Qjuexs0f1lM"
      }
    },
    {
      "cell_type": "code",
      "source": [
        "def cosine_similarity(vec1, vec2):\n",
        "  dot_pdt = np.dot(vec1, vec2)\n",
        "\n",
        "  # calculating magnitudes(norm) of vec1 and vec2\n",
        "  norm_vec1 =  np.linalg.norm(vec1)\n",
        "  norm_vec2 =  np.linalg.norm(vec2)\n",
        "  if norm_vec1 == 0 or norm_vec2 == 0:\n",
        "    return 0\n",
        "\n",
        "  cos_sim = dot_pdt / (norm_vec1 * norm_vec2)\n",
        "  return cos_sim"
      ],
      "metadata": {
        "id": "NL2lPO9QeyOb"
      },
      "execution_count": 6,
      "outputs": []
    },
    {
      "cell_type": "code",
      "source": [
        "class VectorDb:\n",
        "  def __init__(self):\n",
        "    # creating dictionary(key-value pairs) to store vectors with respective vector id.\n",
        "    self.vectors = {}\n",
        "\n",
        "  def insert_vector(self , vec_id, vec):\n",
        "    self.vectors[vec_id] = vec\n",
        "\n",
        "  def search(self, query_vector , top_k):\n",
        "    similar_vectors = []\n",
        "    for vec_id , vec in self.vectors.items():\n",
        "      if vec.ndim == query_vector.ndim and vec.shape == query_vector.shape:\n",
        "        similarity = cosine_similarity(query_vector , vec)\n",
        "        similar_vectors.append((vec_id , similarity))\n",
        "    similar_vectors.sort(key=lambda x: x[1], reverse=True)\n",
        "    return similar_vectors[:top_k]\n",
        "\n",
        "\n",
        "\n",
        "\n"
      ],
      "metadata": {
        "id": "evrU6L2uhcXH"
      },
      "execution_count": 33,
      "outputs": []
    },
    {
      "cell_type": "code",
      "source": [
        "db = VectorDb()\n",
        "\n",
        "db.insert_vector(\"vec1\" , np.array([1 , 3.6, 7 , 5 , 3.2]))\n",
        "db.insert_vector(\"vec2\" , np.array([1 , 1 ,0 , 6 , 3.5]))\n",
        "db.insert_vector(\"vec3\" , np.array([[1,3] , [4,7]]))\n",
        "db.insert_vector(\"vec4\" , np.array([1, 4, 5.5]))\n",
        "db.insert_vector(\"vec5\" , np.array([1, 4, 5.5 , 7 , 2.2]))\n",
        "\n",
        "query = np.array([2 , 5 ,8 , 6 ,3.5])\n",
        "results = db.search( query , 6)\n",
        "\n",
        "# print\n",
        "print(\"Dimension of query vector:\" , query.ndim)\n",
        "print(\"Shape of query vector:\" , query.shape)\n",
        "print(\"Query vector:\" , query)\n",
        "print(results)\n"
      ],
      "metadata": {
        "colab": {
          "base_uri": "https://localhost:8080/"
        },
        "id": "0PpXPEHdhbpp",
        "outputId": "08a96a72-0663-48c2-bb2e-2123c5ead092"
      },
      "execution_count": 35,
      "outputs": [
        {
          "output_type": "stream",
          "name": "stdout",
          "text": [
            "Dimension of query vector: 1\n",
            "Shape of query vector: (5,)\n",
            "Query vector: [2.  5.  8.  6.  3.5]\n",
            "[('vec1', 0.9951250059934604), ('vec5', 0.9682444860165454), ('vec2', 0.6557978991392666)]\n"
          ]
        }
      ]
    },
    {
      "cell_type": "code",
      "source": [],
      "metadata": {
        "id": "W2E5fQ6QeOUb"
      },
      "execution_count": null,
      "outputs": []
    },
    {
      "cell_type": "markdown",
      "source": [
        "#### Further improvements in the project:\n",
        "\n",
        "- [x] Edge cases handling\n",
        "- [x] Return sorted search results\n",
        "- [ ] Add multiple vectors at once.\n",
        "- [ ] Handle larger datasets.\n",
        "- [x] Add dimensionality checks.\n"
      ],
      "metadata": {
        "id": "-bYxRVUuWKtE"
      }
    },
    {
      "cell_type": "code",
      "source": [],
      "metadata": {
        "id": "ZkE8oUV4WKap"
      },
      "execution_count": null,
      "outputs": []
    }
  ]
}